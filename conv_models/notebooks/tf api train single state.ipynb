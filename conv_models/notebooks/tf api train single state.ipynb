{
 "cells": [
  {
   "cell_type": "code",
   "execution_count": null,
   "metadata": {},
   "outputs": [],
   "source": [
    "import covidcast\n",
    "from datetime import datetime\n",
    "import matplotlib.pyplot as plt\n",
    "import numpy as np\n",
    "import pandas as pd\n",
    "import tensorflow as tf\n",
    "\n",
    "%cd ../code\n",
    "from model import Model\n",
    "\n",
    "%cd ../notebooks"
   ]
  },
  {
   "cell_type": "code",
   "execution_count": null,
   "metadata": {},
   "outputs": [],
   "source": [
    "#Load data\n",
    "\n",
    "start_date = datetime(2020, 10, 15)\n",
    "end_date = datetime(2020, 12, 15)\n",
    "    \n",
    "X_df = covidcast.signal(\n",
    "        'fb-survey', \n",
    "        'smoothed_cli',\n",
    "        start_date, end_date,\n",
    "        geo_type='state')\n",
    "\n",
    "Y_df = covidcast.signal(\n",
    "        'indicator-combination',\n",
    "        'confirmed_7dav_incidence_num',\n",
    "        start_date, end_date,\n",
    "        geo_type='state')"
   ]
  },
  {
   "cell_type": "code",
   "execution_count": null,
   "metadata": {},
   "outputs": [],
   "source": [
    "#Process data for use in Tensorflow\n",
    "\n",
    "states = ['ak', 'al', 'ar', 'az', 'ca', 'co', 'ct', 'dc', 'de', 'fl', 'ga',\n",
    "       'hi', 'ia', 'id', 'il', 'in', 'ks', 'ky', 'la', 'ma', 'md', 'me',\n",
    "       'mi', 'mn', 'mo', 'ms', 'mt', 'nc', 'nd', 'ne', 'nh', 'nj', 'nm',\n",
    "       'nv', 'ny', 'oh', 'ok', 'or', 'pa', 'ri', 'sc', 'sd', 'tn',\n",
    "       'tx', 'ut', 'va', 'vt', 'wa', 'wi', 'wv', 'wy']\n",
    "\n",
    "df = X_df.sort_values(['geo_value', 'time_value'])\n",
    "df = df[df['geo_value'].isin(states)]\n",
    "X = pd.pivot_table(df,index='geo_value',columns=df.groupby(['geo_value']).cumcount().add(1), values='value').values\n",
    "X = tf.expand_dims(X,axis=0)\n",
    "X = tf.expand_dims(X,axis=-1)\n",
    "X = tf.cast(X, dtype=tf.float32)\n",
    "\n",
    "df = Y_df.sort_values(['geo_value', 'time_value'])\n",
    "df = df[df['geo_value'].isin(states)]\n",
    "Y = pd.pivot_table(df,index='geo_value',columns=df.groupby(['geo_value']).cumcount().add(1), values='value').values\n",
    "Y = tf.expand_dims(Y,axis=0)\n",
    "Y = tf.expand_dims(Y,axis=-1)\n",
    "Y = tf.cast(Y, dtype=tf.float32)"
   ]
  },
  {
   "cell_type": "code",
   "execution_count": null,
   "metadata": {},
   "outputs": [],
   "source": [
    "#Initialize model and parameters\n",
    "\n",
    "#You can apply constraints directly to layers by setting\n",
    "#the kernel_constrain parameter for a specific layer\n",
    "#\n",
    "#https://www.tensorflow.org/api_docs/python/tf/keras/constraints\n",
    "\n",
    "p=30\n",
    "kernel_constraint = tf.keras.constraints.NonNeg()\n",
    "lr=1\n",
    "\n",
    "model = Model(p=p, kernel_constraint=kernel_constraint)\n",
    "optimizer = tf.keras.optimizers.Adam(lr=lr)\n",
    "\n",
    "def MSE(y_true, y_pred):\n",
    "    return tf.reduce_mean((y_true-y_pred)**2)\n",
    "\n",
    "loss_object=MSE"
   ]
  },
  {
   "cell_type": "code",
   "execution_count": null,
   "metadata": {},
   "outputs": [],
   "source": [
    "#Training\n",
    "@tf.function\n",
    "def train_step(X,Y):\n",
    "    assert X.shape[1] == Y.shape[1], \"Size of X and Y should be the same shape but found, {} vs {}\".format(\n",
    "        X.shape[1], Y.shape[1])\n",
    "\n",
    "    X_padded = tf.pad(\n",
    "        X,\n",
    "        paddings =[[0, 0], [0, 0], [p-1, 0], [0, 0]],\n",
    "    )\n",
    "\n",
    "    with tf.GradientTape() as tape:\n",
    "        Y_hat = model(X_padded, training=True)\n",
    "        loss = loss_object(Y, Y_hat)\n",
    "\n",
    "    gradients = tape.gradient(loss, model.trainable_variables)\n",
    "    optimizer.apply_gradients(\n",
    "        zip(gradients, model.trainable_variables))\n",
    "\n",
    "\n",
    "EPOCHS=1000\n",
    "MODEL_PATH=\"<PATH>\" #Change path \n",
    "best_loss = tf.constant(np.inf) \n",
    "\n",
    "for epoch in range(EPOCHS):\n",
    "    train_step(X,Y)\n",
    "\n",
    "    X_padded = tf.pad(\n",
    "        X,\n",
    "        paddings =[[0, 0], [0, 0], [p-1, 0], [0, 0]],\n",
    "    )\n",
    "    Y_hat = model(X_padded, training=True)\n",
    "    loss = loss_object(Y, Y_hat)\n",
    "\n",
    "    if loss<best_loss:\n",
    "        best_loss = loss\n",
    "        model.save_weights(MODEL_PATH)\n",
    "\n",
    "    print(\"Epoch: {}, Current Loss: {}, Best Loss: {}\".format(epoch, loss, best_loss))"
   ]
  },
  {
   "cell_type": "code",
   "execution_count": null,
   "metadata": {},
   "outputs": [],
   "source": [
    "#Evaluation\n",
    "model.load_weights(MODEL_PATH).expect_partial() #load best weights from training"
   ]
  }
 ],
 "metadata": {
  "kernelspec": {
   "display_name": "Python 3",
   "language": "python",
   "name": "python3"
  },
  "language_info": {
   "codemirror_mode": {
    "name": "ipython",
    "version": 3
   },
   "file_extension": ".py",
   "mimetype": "text/x-python",
   "name": "python",
   "nbconvert_exporter": "python",
   "pygments_lexer": "ipython3",
   "version": "3.8.5"
  }
 },
 "nbformat": 4,
 "nbformat_minor": 4
}
