{
 "cells": [
  {
   "cell_type": "code",
   "execution_count": null,
   "metadata": {},
   "outputs": [],
   "source": [
    "import covidcast\n",
    "from datetime import datetime\n",
    "import matplotlib.pyplot as plt\n",
    "import pandas as pd\n",
    "import tensorflow as tf\n",
    "\n",
    "%cd ../code\n",
    "from model import Model\n",
    "\n",
    "%cd ../notebooks"
   ]
  },
  {
   "cell_type": "code",
   "execution_count": null,
   "metadata": {},
   "outputs": [],
   "source": [
    "#Load data\n",
    "\n",
    "start_date = datetime(2020, 10, 15)\n",
    "end_date = datetime(2020, 12, 15)\n",
    "    \n",
    "X_df = covidcast.signal(\n",
    "        'fb-survey', \n",
    "        'smoothed_cli',\n",
    "        start_date, end_date,\n",
    "        geo_type='state')\n",
    "\n",
    "Y_df = covidcast.signal(\n",
    "        'indicator-combination',\n",
    "        'confirmed_7dav_incidence_num',\n",
    "        start_date, end_date,\n",
    "        geo_type='state')"
   ]
  },
  {
   "cell_type": "code",
   "execution_count": null,
   "metadata": {},
   "outputs": [],
   "source": [
    "#Process data for use in Tensorflow\n",
    "\n",
    "states = ['ak', 'al', 'ar', 'az', 'ca', 'co', 'ct', 'dc', 'de', 'fl', 'ga',\n",
    "       'hi', 'ia', 'id', 'il', 'in', 'ks', 'ky', 'la', 'ma', 'md', 'me',\n",
    "       'mi', 'mn', 'mo', 'ms', 'mt', 'nc', 'nd', 'ne', 'nh', 'nj', 'nm',\n",
    "       'nv', 'ny', 'oh', 'ok', 'or', 'pa', 'ri', 'sc', 'sd', 'tn',\n",
    "       'tx', 'ut', 'va', 'vt', 'wa', 'wi', 'wv', 'wy']\n",
    "\n",
    "df = X_df.sort_values(['geo_value', 'time_value'])\n",
    "df = df[df['geo_value'].isin(states)]\n",
    "X = pd.pivot_table(df,index='geo_value',columns=df.groupby(['geo_value']).cumcount().add(1), values='value').values\n",
    "X = tf.expand_dims(X,axis=0) #shape=(1,number of geo_values, time series values)\n",
    "X = tf.expand_dims(X,axis=-1) #shape=(1,number of geo_values, time series values, 1)\n",
    "X = tf.cast(X, dtype=tf.float32)\n",
    "\n",
    "df = Y_df.sort_values(['geo_value', 'time_value'])\n",
    "df = df[df['geo_value'].isin(states)]\n",
    "Y = pd.pivot_table(df,index='geo_value',columns=df.groupby(['geo_value']).cumcount().add(1), values='value').values\n",
    "Y = tf.expand_dims(Y,axis=0) #shape=(1,number of geo_values, time series values)\n",
    "Y = tf.expand_dims(Y,axis=-1) #shape=(1,number of geo_values, time series values, 1)\n",
    "Y = tf.cast(Y, dtype=tf.float32)"
   ]
  },
  {
   "cell_type": "code",
   "execution_count": null,
   "metadata": {},
   "outputs": [],
   "source": [
    "#Initialize model\n",
    "\n",
    "#You can apply constraints directly to layers by setting\n",
    "#the kernel_constraints parameter for a specific layer\n",
    "#\n",
    "#https://www.tensorflow.org/api_docs/python/tf/keras/constraints\n",
    "\n",
    "p=30\n",
    "m=X.shape[1] #number of geo_values\n",
    "kernel_constraint = tf.keras.constraints.NonNeg()\n",
    "lr=1\n",
    "\n",
    "model = Model(\n",
    "    p=p, \n",
    "    m=m,\n",
    "    kernel_constraint=kernel_constraint\n",
    ")\n",
    "optimizer = tf.keras.optimizers.Adam(lr=lr)\n",
    "\n",
    "def MSE(y_true, y_pred):\n",
    "    return tf.reduce_mean((y_true-y_pred)**2)\n",
    "loss=MSE\n",
    "\n",
    "#This just monitors the specified quantity\n",
    "#and creates a checkpoint when the monitored quantity is \n",
    "#lower than the previous recorded value\n",
    "\n",
    "MODEL_PATH = \"model.ckpt\" #Please change the model path\n",
    "checkpoint_callback = tf.keras.callbacks.ModelCheckpoint(\n",
    "    filepath=MODEL_PATH,\n",
    "    verbose=0,\n",
    "    monitor=\"MSE\",\n",
    "    mode='min',\n",
    "    save_best_only=True,\n",
    "    save_weights_only=True\n",
    ")\n",
    "callbacks = [\n",
    "    checkpoint_callback,\n",
    "]\n",
    "\n",
    "model.compile(\n",
    "    optimizer=optimizer,\n",
    "    loss=loss, \n",
    "    metrics=[loss],\n",
    ")"
   ]
  },
  {
   "cell_type": "code",
   "execution_count": null,
   "metadata": {},
   "outputs": [],
   "source": [
    "#Training\n",
    "hist = model.fit(\n",
    "    x=X,\n",
    "    y=Y,\n",
    "    callbacks=callbacks,\n",
    "    epochs=1000,\n",
    ")"
   ]
  },
  {
   "cell_type": "code",
   "execution_count": null,
   "metadata": {},
   "outputs": [],
   "source": [
    "#Evaluation\n",
    "model.load_weights(MODEL_PATH).expect_partial() #load best weights from training"
   ]
  }
 ],
 "metadata": {
  "kernelspec": {
   "display_name": "Python 3",
   "language": "python",
   "name": "python3"
  },
  "language_info": {
   "codemirror_mode": {
    "name": "ipython",
    "version": 3
   },
   "file_extension": ".py",
   "mimetype": "text/x-python",
   "name": "python",
   "nbconvert_exporter": "python",
   "pygments_lexer": "ipython3",
   "version": "3.8.5"
  }
 },
 "nbformat": 4,
 "nbformat_minor": 4
}
